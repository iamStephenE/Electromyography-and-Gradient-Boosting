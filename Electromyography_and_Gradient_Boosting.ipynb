{
  "cells": [
    {
      "cell_type": "markdown",
      "metadata": {
        "id": "view-in-github",
        "colab_type": "text"
      },
      "source": [
        "<a href=\"https://colab.research.google.com/github/iamStephenE/Electromyography-and-Gradient-Boosting/blob/main/Electromyography_and_Gradient_Boosting.ipynb\" target=\"_parent\"><img src=\"https://colab.research.google.com/assets/colab-badge.svg\" alt=\"Open In Colab\"/></a>"
      ]
    },
    {
      "cell_type": "markdown",
      "metadata": {
        "id": "Ak4mj4-G5eVY"
      },
      "source": [
        "# Electromyography and Gradient Boosting\n",
        "## Stephen Ebrahim\n",
        "## CS 301 - 103"
      ]
    },
    {
      "cell_type": "markdown",
      "metadata": {
        "id": "ja2DLXlU5tSJ"
      },
      "source": [
        "## Background and Documentation (30 points)\n",
        "\n",
        "### Gradient Boosting\n",
        "\n",
        "The term boosting is synonymous with improving or enhancing and the idea of it in machine learning is concerned with whether or not the model can be improved through some sort of technique. Generally, this boosting is performed to maximize the accuracy, or in other words, minimize the error. To build on this idea, the minimization of error involves a concept called residual, which simply refers to how different the prediction is compared to the true value - the remnants of the difference.\n",
        "\n",
        "$$r=\\hat{y}_i - y_i$$\n",
        "\n",
        "Residual between  $\\hat{y}_i$ (prediction), and $y_i$ (true value).\n",
        "\n",
        "The central idea surrounding gradient boosting is to keep recursively computing the residual and improving the model based on that; essentially it is an optimization problem, and that is where the \"gradient\" part of the name comes in. A gradient suggests that there is an optimal solution that the model can go towards. For instance, in gradient descent, this concept was very evident because, in the algorithm, the model took a step in the negative gradient direction to find the global minimum value. Similarly here, the tree will use the gradient based on the residuals to make a change in the tree that would lead it to the optimal tree with the least error. The key difference between gradient boosting and gradient descent is that gradient descent depends entirely on optimizing a parameter that it keeps using throughout the learning process, whereas, gradient boosting depends on the composition of models. This composition idea refers back to the Ensemble Predictions method which involves the usage of multiple weak models that support each other and ultimately together form an accurate model.\n",
        "\n",
        "The Gradient Boosting process can be illustrated through the following steps.\n",
        "\n",
        "Let's start with a model that to fit:\n",
        "\n",
        "$$F_1(X)=y$$\n",
        "\n",
        "where $F_1$ represents the first model, $X$ represents the input data, and $y$ is what we try to go towards or fit. We can calculate the residual of the error produced by this model through the following:\n",
        "\n",
        "$$h_1(X)=y-F_1(X)$$\n",
        "\n",
        "where $h_1$ represents the residual of the first model. Now, we can use these two values to create a newer and more accurate model that considers the error of the residual.\n",
        "\n",
        "$$F_2(X)=F_1(X)+h_1(X)$$\n",
        "\n",
        "From this, it is very easy to generalize the question into a recurrence relation that both capture the idea of Ensemble Predictions as well as the recursive nature of the model.\n",
        "\n",
        "$$F_{n}(X)=F_{n-1}(X)+\\gamma_mh_{n-1}(X)$$\n",
        "\n",
        "where $F_n$ is the $n^{th}$ model. Here we also add a variable $\\gamma_m$ and this will control the step size of how the residual will change model $F_{n-1}$ to make the new mode $F_n$. This variable works exactly the same way as the learning rate in gradient descent did. Essentially, because the gradient (in this case, the residual) may have a large impact on the model, $\\gamma_m$ will in a way normalize that value and restrict it from making a drastic impact. This way, the model improves at a consistent rate without too much uncertainty or randomness.\n",
        "\n",
        "Essentially, the boosting performed in this algorithm attempts to reduce the residual with every iteration. Furthermore, minimizing the residual is the same as minimizing the square of the residual, consequently, it is the same as minimizing the mean square error (MSE) or improving the accuracy of the model.\n",
        "\n",
        "$$MSE = L(F_n(X),y) = \\frac{1}{m} \\sum_{i=1}^m (F_n(x_i) - y_i)^2$$\n",
        "\n",
        "Mean square error where $m$ represents the number of examples, $i$ represents the index of an example, $F_n$ represents the $n^{th}$ model which is used as the hypothesis, $x_i$ is the $i^{th}$ example and $y_i$ is the true value of the $i^{th}$ example.\n",
        "\n",
        "Now, we can calculate the gradient from the $L(y_i, F(x_i))$ equation above:\n",
        "\n",
        "$$r_{in} = -\\left[\\frac{\\partial L(y_i, F(x_i))}{\\partial F(x_i)}\\right]_{F(x)=F_{n-1}(x)} \\quad \\text{for } i=1, \\ldots, m$$\n",
        "\n",
        "which can be further simplified to\n",
        "\n",
        "$$r_{in} = -\\frac{2}{m} \\sum_{i=1}^m (F_{n-1}(x_i) - y_i) \\quad \\text{for } i=1, \\ldots, m$$\n",
        "\n",
        "Using this we can apply it to a weak learner (which is just a model that does not perform well) and then use the recurrence relation defined above to get the new model.\n",
        "\n",
        "Through this, we can have learned about Gradient Boosting and how to effectively apply this technique to improve our model.\n",
        "\n",
        "<br/>\n",
        "<hr>\n",
        "\n",
        "### References:\n",
        "[1] https://explained.ai/gradient-boosting/\n",
        "\n",
        "[2] https://www.kaggle.com/code/kashnitsky/topic-10-gradient-boosting/notebook\n",
        "\n",
        "[3] https://www.gormanalysis.com/blog/gradient-boosting-explained/#motivation\n"
      ]
    },
    {
      "cell_type": "markdown",
      "metadata": {
        "id": "baPQgE7F6QsI"
      },
      "source": [
        "## Coding from scratch using JAX (30 points)\n",
        "<font color='green'>\n",
        "Note to grader: As professor mentioned to achieve a score of 100% on this assignment, we must implement from scratch the boosting algorithm and that is what I have done. I have used the DecisionTreeClassifier provided by Sklearn as professor said we can.\n",
        "</font>\n",
        "\n",
        "In this section, I will implement gradient boosting from scratch with the help of Sklearn's DecisionTreeClassifier as a decision Tree while also using the JAX ecosystem."
      ]
    },
    {
      "cell_type": "code",
      "execution_count": null,
      "metadata": {
        "id": "mgPwFvypHq9N"
      },
      "outputs": [],
      "source": [
        "import jax\n",
        "import jax.numpy as jnp\n",
        "import pandas as pd\n",
        "import matplotlib.pyplot as plt\n",
        "import seaborn as sns"
      ]
    },
    {
      "cell_type": "markdown",
      "metadata": {
        "id": "PF8gK1aAFLt1"
      },
      "source": [
        "### Generating Toy Data\n",
        "Firstly, we will generate the toy dataset that we will apply Gradient Boosting too. This dataset we will be generating the clipped cosinusoidal dataset; the bias is the cosine function with an off set to imitate noisy data. The will be the dataset used to do the classification task using gradient boosting, and in this case it is simply two classes: 1 and -1 with only one input feature $x \\in (-5, 5)$."
      ]
    },
    {
      "cell_type": "code",
      "execution_count": null,
      "metadata": {
        "colab": {
          "base_uri": "https://localhost:8080/",
          "height": 206
        },
        "id": "j8qkspSTHlaS",
        "outputId": "dad02421-d35b-4104-eb8e-86cb4424bbc0"
      },
      "outputs": [
        {
          "output_type": "execute_result",
          "data": {
            "text/plain": [
              "          X         y\n",
              "0 -5.000000  0.914858\n",
              "1 -4.966555  0.925658\n",
              "2 -4.933110  0.903882\n",
              "3 -4.899666  0.986161\n",
              "4 -4.866221  0.951036"
            ],
            "text/html": [
              "\n",
              "  <div id=\"df-8e760d6f-3910-4eae-9945-e7f0d0bc6a14\">\n",
              "    <div class=\"colab-df-container\">\n",
              "      <div>\n",
              "<style scoped>\n",
              "    .dataframe tbody tr th:only-of-type {\n",
              "        vertical-align: middle;\n",
              "    }\n",
              "\n",
              "    .dataframe tbody tr th {\n",
              "        vertical-align: top;\n",
              "    }\n",
              "\n",
              "    .dataframe thead th {\n",
              "        text-align: right;\n",
              "    }\n",
              "</style>\n",
              "<table border=\"1\" class=\"dataframe\">\n",
              "  <thead>\n",
              "    <tr style=\"text-align: right;\">\n",
              "      <th></th>\n",
              "      <th>X</th>\n",
              "      <th>y</th>\n",
              "    </tr>\n",
              "  </thead>\n",
              "  <tbody>\n",
              "    <tr>\n",
              "      <th>0</th>\n",
              "      <td>-5.000000</td>\n",
              "      <td>0.914858</td>\n",
              "    </tr>\n",
              "    <tr>\n",
              "      <th>1</th>\n",
              "      <td>-4.966555</td>\n",
              "      <td>0.925658</td>\n",
              "    </tr>\n",
              "    <tr>\n",
              "      <th>2</th>\n",
              "      <td>-4.933110</td>\n",
              "      <td>0.903882</td>\n",
              "    </tr>\n",
              "    <tr>\n",
              "      <th>3</th>\n",
              "      <td>-4.899666</td>\n",
              "      <td>0.986161</td>\n",
              "    </tr>\n",
              "    <tr>\n",
              "      <th>4</th>\n",
              "      <td>-4.866221</td>\n",
              "      <td>0.951036</td>\n",
              "    </tr>\n",
              "  </tbody>\n",
              "</table>\n",
              "</div>\n",
              "      <button class=\"colab-df-convert\" onclick=\"convertToInteractive('df-8e760d6f-3910-4eae-9945-e7f0d0bc6a14')\"\n",
              "              title=\"Convert this dataframe to an interactive table.\"\n",
              "              style=\"display:none;\">\n",
              "        \n",
              "  <svg xmlns=\"http://www.w3.org/2000/svg\" height=\"24px\"viewBox=\"0 0 24 24\"\n",
              "       width=\"24px\">\n",
              "    <path d=\"M0 0h24v24H0V0z\" fill=\"none\"/>\n",
              "    <path d=\"M18.56 5.44l.94 2.06.94-2.06 2.06-.94-2.06-.94-.94-2.06-.94 2.06-2.06.94zm-11 1L8.5 8.5l.94-2.06 2.06-.94-2.06-.94L8.5 2.5l-.94 2.06-2.06.94zm10 10l.94 2.06.94-2.06 2.06-.94-2.06-.94-.94-2.06-.94 2.06-2.06.94z\"/><path d=\"M17.41 7.96l-1.37-1.37c-.4-.4-.92-.59-1.43-.59-.52 0-1.04.2-1.43.59L10.3 9.45l-7.72 7.72c-.78.78-.78 2.05 0 2.83L4 21.41c.39.39.9.59 1.41.59.51 0 1.02-.2 1.41-.59l7.78-7.78 2.81-2.81c.8-.78.8-2.07 0-2.86zM5.41 20L4 18.59l7.72-7.72 1.47 1.35L5.41 20z\"/>\n",
              "  </svg>\n",
              "      </button>\n",
              "      \n",
              "  <style>\n",
              "    .colab-df-container {\n",
              "      display:flex;\n",
              "      flex-wrap:wrap;\n",
              "      gap: 12px;\n",
              "    }\n",
              "\n",
              "    .colab-df-convert {\n",
              "      background-color: #E8F0FE;\n",
              "      border: none;\n",
              "      border-radius: 50%;\n",
              "      cursor: pointer;\n",
              "      display: none;\n",
              "      fill: #1967D2;\n",
              "      height: 32px;\n",
              "      padding: 0 0 0 0;\n",
              "      width: 32px;\n",
              "    }\n",
              "\n",
              "    .colab-df-convert:hover {\n",
              "      background-color: #E2EBFA;\n",
              "      box-shadow: 0px 1px 2px rgba(60, 64, 67, 0.3), 0px 1px 3px 1px rgba(60, 64, 67, 0.15);\n",
              "      fill: #174EA6;\n",
              "    }\n",
              "\n",
              "    [theme=dark] .colab-df-convert {\n",
              "      background-color: #3B4455;\n",
              "      fill: #D2E3FC;\n",
              "    }\n",
              "\n",
              "    [theme=dark] .colab-df-convert:hover {\n",
              "      background-color: #434B5C;\n",
              "      box-shadow: 0px 1px 3px 1px rgba(0, 0, 0, 0.15);\n",
              "      filter: drop-shadow(0px 1px 2px rgba(0, 0, 0, 0.3));\n",
              "      fill: #FFFFFF;\n",
              "    }\n",
              "  </style>\n",
              "\n",
              "      <script>\n",
              "        const buttonEl =\n",
              "          document.querySelector('#df-8e760d6f-3910-4eae-9945-e7f0d0bc6a14 button.colab-df-convert');\n",
              "        buttonEl.style.display =\n",
              "          google.colab.kernel.accessAllowed ? 'block' : 'none';\n",
              "\n",
              "        async function convertToInteractive(key) {\n",
              "          const element = document.querySelector('#df-8e760d6f-3910-4eae-9945-e7f0d0bc6a14');\n",
              "          const dataTable =\n",
              "            await google.colab.kernel.invokeFunction('convertToInteractive',\n",
              "                                                     [key], {});\n",
              "          if (!dataTable) return;\n",
              "\n",
              "          const docLinkHtml = 'Like what you see? Visit the ' +\n",
              "            '<a target=\"_blank\" href=https://colab.research.google.com/notebooks/data_table.ipynb>data table notebook</a>'\n",
              "            + ' to learn more about interactive tables.';\n",
              "          element.innerHTML = '';\n",
              "          dataTable['output_type'] = 'display_data';\n",
              "          await google.colab.output.renderOutput(dataTable, element);\n",
              "          const docLink = document.createElement('div');\n",
              "          docLink.innerHTML = docLinkHtml;\n",
              "          element.appendChild(docLink);\n",
              "        }\n",
              "      </script>\n",
              "    </div>\n",
              "  </div>\n",
              "  "
            ]
          },
          "metadata": {},
          "execution_count": 114
        }
      ],
      "source": [
        "# set the number of examples\n",
        "number_of_examples = 300\n",
        "\n",
        "# fix the seed for reproducibility\n",
        "jax_seed = jax.random.PRNGKey(301)\n",
        "\n",
        "# Generate features: This is a collection of numbers from x = -5 to x = 5\n",
        "X = jnp.linspace(-5, 5, number_of_examples)\n",
        "\n",
        "# Generate target: The function being applied here is\n",
        "# f(x) = 1 if cos(x) >= 0 and f(x) = -1 if cos(x) < 0\n",
        "y = jnp.array(list(map(lambda x: 1.0 if jnp.cos(x) >= 0 else -1.0, X)))\n",
        "\n",
        "# then we add a random factor (the epsilon here) to make the data more noise\n",
        "epsilon = 0.2\n",
        "y += epsilon * jax.random.uniform(jax_seed, shape=(number_of_examples, 1), minval=-0.5, maxval=0.5)[:,0]\n",
        "\n",
        "# Using the dataset just created, I will create pandas.DataF```rame\n",
        "cosinusoidal_data = pd.DataFrame(data=jnp.stack([X, y], axis=1), columns=[\"X\", \"y\"])\n",
        "\n",
        "# since jax created an array of objects, we must convert them to floats\n",
        "cosinusoidal_data = cosinusoidal_data.astype({'X': float, 'y': float})\n",
        "cosinusoidal_data.head()"
      ]
    },
    {
      "cell_type": "markdown",
      "metadata": {
        "id": "zca9W9kuQWxK"
      },
      "source": [
        "### Processing and Visualizing Data\n",
        "To visualize how the dataset looks like, the following is a plot of the values generated."
      ]
    },
    {
      "cell_type": "code",
      "execution_count": null,
      "metadata": {
        "colab": {
          "base_uri": "https://localhost:8080/",
          "height": 296
        },
        "id": "vB8t6U7sHo5Y",
        "outputId": "ad0f2c42-7847-481b-e7e2-1ad3f20d82ab"
      },
      "outputs": [
        {
          "output_type": "display_data",
          "data": {
            "text/plain": [
              "<Figure size 432x288 with 1 Axes>"
            ],
            "image/png": "[encoded data removed]"
          },
          "metadata": {
            "needs_background": "light"
          }
        },
        {
          "output_type": "display_data",
          "data": {
            "text/plain": [
              "<Figure size 720x720 with 0 Axes>"
            ]
          },
          "metadata": {}
        }
      ],
      "source": [
        "# entire cosinusoidal data\n",
        "sns.scatterplot(x=\"X\", y=\"y\", data=cosinusoidal_data, alpha=0.7)\n",
        "plt.figure(figsize=(10, 10))\n",
        "plt.show()"
      ]
    },
    {
      "cell_type": "markdown",
      "metadata": {
        "id": "WQK_Y4vx5MlO"
      },
      "source": [
        "Now, using this generated toy data, we can split the dataset, into training and testing sets (using the standard 80-20 split for training and validation/testing respectively."
      ]
    },
    {
      "cell_type": "code",
      "execution_count": null,
      "metadata": {
        "id": "N44POFS15g0W"
      },
      "outputs": [],
      "source": [
        "# using sklearn's train_test_split method, we will split the cosinusoidal data\n",
        "# to perform testing and validation\n",
        "from sklearn.model_selection import train_test_split\n",
        "\n",
        "# splitting the data into training and validating/testing (80-20)\n",
        "train, test = train_test_split(cosinusoidal_data, test_size=0.2)\n",
        "X_train, y_train = train[[\"X\"]], train[[\"y\"]]\n",
        "X_test, y_test = test[[\"X\"]], test[[\"y\"]]\n",
        "\n",
        "# sorting by index so that there is no issue when graphing because when the \n",
        "# data is split it is shuffled so issues arise when plotting these values.\n",
        "X_train, y_train = X_train.sort_index(), y_train.sort_index()\n",
        "X_test, y_test = X_test.sort_index(), y_test.sort_index()"
      ]
    },
    {
      "cell_type": "code",
      "execution_count": null,
      "metadata": {
        "colab": {
          "base_uri": "https://localhost:8080/",
          "height": 296
        },
        "id": "_scXrHlJmGrD",
        "outputId": "9f22801e-3a18-46cc-e354-22c989362063"
      },
      "outputs": [
        {
          "output_type": "display_data",
          "data": {
            "text/plain": [
              "<Figure size 432x288 with 1 Axes>"
            ],
            "image/png": "[encoded data removed]"
          },
          "metadata": {
            "needs_background": "light"
          }
        },
        {
          "output_type": "display_data",
          "data": {
            "text/plain": [
              "<Figure size 720x720 with 0 Axes>"
            ]
          },
          "metadata": {}
        }
      ],
      "source": [
        "# testing data of the cosinusoidal set\n",
        "sns.scatterplot(x=\"X\", y=\"y\", data=test, alpha=0.6, color=\"red\")\n",
        "plt.figure(figsize=(10, 10))\n",
        "plt.show()"
      ]
    },
    {
      "cell_type": "markdown",
      "metadata": {
        "id": "l9iWegUaXFpi"
      },
      "source": [
        "In the following method, we will be plotting the predictions my multiple models. Since the models are fit to residuals, we will have many models that together achieve one accurate method. This depicts the ensemble method idea; we \"assemble\" many models to create one accurate method."
      ]
    },
    {
      "cell_type": "code",
      "execution_count": null,
      "metadata": {
        "id": "hBz4U3RRGkW5"
      },
      "outputs": [],
      "source": [
        "# we will take in the models, X and y data, an axis to define a range of the \n",
        "# plot show on the screen, and other parameters to style the plot accordingly.\n",
        "# This method also returns the final predictions\n",
        "def plot_predictions(models, X, y, axes, label=None, style=\"r-\", data_style=\"b.\", data_label=None, color=\"blue\"):\n",
        "\n",
        "  # Here we sum the predictions of all the models to get the final prediction\n",
        "  pred = sum(model.predict(X) for model in models)\n",
        "\n",
        "  # Plotting both the dataset as well as the model prediction\n",
        "  plt.plot(X, y, data_style, label=data_label, alpha=0.6, color=color)\n",
        "  plt.plot(X, pred, style, linewidth=2, label=label)\n",
        "\n",
        "  # Adding the labels\n",
        "  if label or data_label:\n",
        "    plt.legend(loc=\"right\")\n",
        "\n",
        "  plt.ylabel(\"$y$\")\n",
        "  plt.xlabel(\"$X$\")\n",
        "\n",
        "  plt.figure(figsize=(10, 10))\n",
        "  plt.show()\n",
        "\n",
        "  # returning the final predictions\n",
        "  return pred\n"
      ]
    },
    {
      "cell_type": "markdown",
      "metadata": {
        "id": "i34OYBGIMBxR"
      },
      "source": [
        "### Performing Gradient boosting\n",
        "Using the theoretical research and equations discussed above, I will be implementing the Gradient Boosting algorithm. The main equation to follow is\n",
        "$$F_{n}(X)=F_{n-1}(X)+\\gamma_mh_{n-1}(X)$$\n",
        "\n",
        "For simplicity, I will take $\\gamma_m = 1$ for the boosting process. As for the other parameters, I will choose the amount of estimates to be $n_{estimator} = 5$ and the max depth for the tree I will choose to be $depth_{max} = 1$.\n",
        "\n",
        "It is important to mention that although the dataset has a noisy factor to it, since I am using a Decision Tree Classifier, I have rounded the values when feeding them to the tree so that it is possible to get the two classes using those integers"
      ]
    },
    {
      "cell_type": "code",
      "execution_count": null,
      "metadata": {
        "colab": {
          "base_uri": "https://localhost:8080/",
          "height": 1000
        },
        "id": "dUW70JPHIhfK",
        "outputId": "1016f3d8-96cf-4c2a-c7dd-1b2b6f2fe3ae"
      },
      "outputs": [
        {
          "output_type": "display_data",
          "data": {
            "text/plain": [
              "<Figure size 432x288 with 1 Axes>"
            ],
            "image/png": "[encoded data removed]"
          },
          "metadata": {
            "needs_background": "light"
          }
        },
        {
          "output_type": "stream",
          "name": "stdout",
          "text": [
            "\n"
          ]
        },
        {
          "output_type": "display_data",
          "data": {
            "text/plain": [
              "<Figure size 432x288 with 1 Axes>"
            ],
            "image/png": "[encoded data removed]"
          },
          "metadata": {
            "needs_background": "light"
          }
        },
        {
          "output_type": "stream",
          "name": "stdout",
          "text": [
            "\n"
          ]
        },
        {
          "output_type": "display_data",
          "data": {
            "text/plain": [
              "<Figure size 432x288 with 1 Axes>"
            ],
            "image/png": "[encoded data removed]"
          },
          "metadata": {
            "needs_background": "light"
          }
        },
        {
          "output_type": "stream",
          "name": "stdout",
          "text": [
            "\n"
          ]
        },
        {
          "output_type": "display_data",
          "data": {
            "text/plain": [
              "<Figure size 432x288 with 1 Axes>"
            ],
            "image/png": "[encoded data removed]"
          },
          "metadata": {
            "needs_background": "light"
          }
        },
        {
          "output_type": "stream",
          "name": "stdout",
          "text": [
            "\n"
          ]
        },
        {
          "output_type": "display_data",
          "data": {
            "text/plain": [
              "<Figure size 432x288 with 1 Axes>"
            ],
            "image/png": "[encoded data removed]"
          },
          "metadata": {
            "needs_background": "light"
          }
        },
        {
          "output_type": "stream",
          "name": "stdout",
          "text": [
            "\n"
          ]
        }
      ],
      "source": [
        "# importing the tree from sklearn\n",
        "from sklearn.tree import DecisionTreeClassifier\n",
        "\n",
        "# the residuals will initially be the training values as that would be the error\n",
        "# in the beginning.\n",
        "residuals = jnp.array(y_train)[:,0]\n",
        "\n",
        "# parameter initialization\n",
        "n_estimator = 5\n",
        "dtc_max_depth = 1\n",
        "\n",
        "# an array to store all the cosinusoidal models created by the trees when\n",
        "# fitting to the residuals\n",
        "cosinusoidal_models = []\n",
        "\n",
        "# We will need a final prediction array to accumulate all the predictions\n",
        "# from each model. Therefore, we have this array which adds all the model\n",
        "# predictions that are fitted using the residuals.\n",
        "pred_f = jnp.zeros(len(y_train))\n",
        "\n",
        "# Gradient boosting loop\n",
        "for i in range(n_estimator):\n",
        "  # creating the DecisionTreeClassifier\n",
        "  dtc = DecisionTreeClassifier(max_depth=dtc_max_depth)\n",
        "  # fitting the DTC model\n",
        "  dtc_model = dtc.fit(X_train, jnp.round_(residuals))\n",
        "  # getting the prediciton of the ith model\n",
        "  pred_i = dtc_model.predict(X_train)\n",
        "\n",
        "  # adding the predictions to the final predicitions array\n",
        "  pred_f = jnp.add(pred_f, pred_i)\n",
        "\n",
        "  # Plotting the ith Model and the ith Residuals\n",
        "  plt.title(f\"Model and Residuals: $i = {i}$\")\n",
        "  plt.plot(X_train, residuals, \"b.\", label=\"Residuals\", alpha=0.6)\n",
        "  plt.plot(X_train, pred_i, \"g-\", linewidth=2, label=\"Model\")\n",
        "  plt.legend(loc=\"right\")\n",
        "  plt.ylabel(\"$y$\")\n",
        "  plt.xlabel(\"$X$\")\n",
        "  plt.show()\n",
        "  print()\n",
        "  \n",
        "  # updating residuals based on the true values and the latest predictions\n",
        "  residuals = jnp.subtract(jnp.array(y_train)[:,0], pred_f)\n",
        "  \n",
        "  # adding the created model to the set of consinusoidal models\n",
        "  cosinusoidal_models.append(dtc_model)"
      ]
    },
    {
      "cell_type": "markdown",
      "metadata": {
        "id": "rVeeiJagjiHq"
      },
      "source": [
        "We can see form the graphs above that the model adjust over time to fit the dataset. Note: although the last one might look messy, the y range is actually from 0.10 to -0.10, meaning that its actually a very small range; all these points actually belong to the same class so this is perfect!\n",
        "\n",
        "Now, we will move on to using this model on the training and testing to get the accuracy."
      ]
    },
    {
      "cell_type": "code",
      "execution_count": null,
      "metadata": {
        "colab": {
          "base_uri": "https://localhost:8080/",
          "height": 316
        },
        "id": "RD6f0CVMCnb8",
        "outputId": "f36c59cb-c4ba-4c77-e750-6641bdd6fb38"
      },
      "outputs": [
        {
          "output_type": "display_data",
          "data": {
            "text/plain": [
              "<Figure size 432x288 with 1 Axes>"
            ],
            "image/png": "[encoded data removed]"
          },
          "metadata": {
            "needs_background": "light"
          }
        },
        {
          "output_type": "display_data",
          "data": {
            "text/plain": [
              "<Figure size 720x720 with 0 Axes>"
            ]
          },
          "metadata": {}
        },
        {
          "output_type": "stream",
          "name": "stdout",
          "text": [
            "Traning accuracy:  1.0\n"
          ]
        }
      ],
      "source": [
        "# plot the predictions\n",
        "preds = plot_predictions(\n",
        "  cosinusoidal_models, X_train, y_train, axes=[-5, 5, -1.2, 1.2], label=\"Model\", style=\"g-\", data_label=\"Training set\", color=\"blue\"\n",
        ")\n",
        "\n",
        "# get the final predictions from the models to get the accuracy\n",
        "pred = sum(model.predict(X_train) for model in cosinusoidal_models)\n",
        "# a variable to store the number of correct predictions\n",
        "correct = 0\n",
        "\n",
        "# going through the set and finding the correct values\n",
        "for i in range(len(X_train)):\n",
        "  # checking if the predictions and the true values are equivalent\n",
        "  if pred[i] == jnp.round_(jnp.array(y_train)[:,0][i]):\n",
        "    correct += 1\n",
        "\n",
        "# Printing the accuracy\n",
        "print(\"Traning accuracy: \", correct / len(X_train))"
      ]
    },
    {
      "cell_type": "markdown",
      "metadata": {
        "id": "hc0yJqdJkdop"
      },
      "source": [
        "We can see that we have an incredible accuracy of 100% (predicting all the values correctly) for the training set; now let's verify that there is no overfitting by preforming this on the testing set."
      ]
    },
    {
      "cell_type": "code",
      "execution_count": null,
      "metadata": {
        "colab": {
          "base_uri": "https://localhost:8080/",
          "height": 316
        },
        "id": "EilP_sApSeCH",
        "outputId": "35924be9-d1fe-4984-8982-7d4fd64d444c"
      },
      "outputs": [
        {
          "output_type": "display_data",
          "data": {
            "text/plain": [
              "<Figure size 432x288 with 1 Axes>"
            ],
            "image/png": "[encoded data removed]"
          },
          "metadata": {
            "needs_background": "light"
          }
        },
        {
          "output_type": "display_data",
          "data": {
            "text/plain": [
              "<Figure size 720x720 with 0 Axes>"
            ]
          },
          "metadata": {}
        },
        {
          "output_type": "stream",
          "name": "stdout",
          "text": [
            "Testing accuracy:  1.0\n"
          ]
        }
      ],
      "source": [
        "# same as last block but for testing data\n",
        "preds = plot_predictions(\n",
        "  cosinusoidal_models, X_test, y_test, axes=[-5, 5, -1.2, 1.2], label=\"Model\", style=\"g-\", data_label=\"Testing set\", color=\"red\"\n",
        ")\n",
        "\n",
        "pred = sum(model.predict(X_test) for model in cosinusoidal_models)\n",
        "correct = 0\n",
        "for i in range(len(X_test)):\n",
        "  if pred[i] == jnp.round_(jnp.array(y_test)[:,0][i]):\n",
        "    correct += 1\n",
        "\n",
        "print(\"Testing accuracy: \", correct / len(X_test))"
      ]
    },
    {
      "cell_type": "markdown",
      "metadata": {
        "id": "STJCuz1bk5tA"
      },
      "source": [
        "Again, we have achieved a fantastic accuracy score for the testing data which indicates that the model correctly predicts the two classes. The hyper-parameters chosen were: $n_{estimator} = 5$ and $depth_{max} = 1$ which is very simple to compute and does not take a lot of resources or time. As this was a very simple model, it is expected to achieve such great results."
      ]
    },
    {
      "cell_type": "markdown",
      "metadata": {
        "id": "7HwoID1YmCnR"
      },
      "source": [
        "## EMG Dataset (40 points)\n",
        "Now, I will apply the same gradient boosting implementation algorithm to the EMG Dataset which is located at https://archive.ics.uci.edu/ml/datasets/EMG+Physical+Action+Data+Set.\n",
        "\n",
        "I have saved this dataset in my google drive, so I will just be loading it from there. \n",
        "<font color=\"red\">\n",
        "Note: if you are trying to run my notebook, this will not work as it will load your own google drive. \n",
        "</font>"
      ]
    },
    {
      "cell_type": "code",
      "execution_count": null,
      "metadata": {
        "colab": {
          "base_uri": "https://localhost:8080/"
        },
        "id": "KMFXGHH-awmf",
        "outputId": "8cdb4554-960f-4d53-c747-46feef579d0c"
      },
      "outputs": [
        {
          "output_type": "stream",
          "name": "stdout",
          "text": [
            "Drive already mounted at /content/gdrive; to attempt to forcibly remount, call drive.mount(\"/content/gdrive\", force_remount=True).\n"
          ]
        }
      ],
      "source": [
        "# loading the data from my google drive\n",
        "from google.colab import drive\n",
        "drive.mount('/content/gdrive')"
      ]
    },
    {
      "cell_type": "markdown",
      "metadata": {
        "id": "SDUWvSnGs8Rp"
      },
      "source": [
        "### Loading the data and Processing it:\n",
        "Here I will load the data from my google drive and processes it as well as placing it into a dataframe. I will also get the actions (target values) in the dataset."
      ]
    },
    {
      "cell_type": "code",
      "execution_count": null,
      "metadata": {
        "colab": {
          "base_uri": "https://localhost:8080/"
        },
        "id": "F7ErQ8D-q9bj",
        "outputId": "5a4b8771-0c5f-4ce3-aac4-c2af0ea37a36"
      },
      "outputs": [
        {
          "output_type": "stream",
          "name": "stdout",
          "text": [
            "{'Slapping': 61, 'Sidekicking': 60, 'Pushing': 62, 'Punching': 65, 'Pulling': 64, 'Kneeing': 63, 'Headering': 66, 'Hamering': 67, 'Frontkicking': 68, 'Elbowing': 69, 'Waving': 70, 'Walking': 72, 'Running': 73, 'Standing': 74, 'Jumping': 71, 'Hugging': 76, 'Handshaking': 77, 'Seating': 75, 'Bowing': 78, 'Clapping': 79}\n"
          ]
        }
      ],
      "source": [
        "import os\n",
        "import matplotlib.pyplot as plt\n",
        "import pandas as pd\n",
        "import sklearn \n",
        "\n",
        "# this dictionary will be responsible for integer encoding the varios actions\n",
        "actions = {}\n",
        "\n",
        "# all the paths needed to load all the data from my drive\n",
        "data_dirs = [\"gdrive/MyDrive/EMG Physical Action Data Set/sub1/Aggressive/txt/\",\n",
        "             \"gdrive/MyDrive/EMG Physical Action Data Set/sub1/Normal/txt/\",\n",
        "             \"gdrive/MyDrive/EMG Physical Action Data Set/sub2/Aggressive/txt/\",\n",
        "             \"gdrive/MyDrive/EMG Physical Action Data Set/sub2/Normal/txt/\",\n",
        "             \"gdrive/MyDrive/EMG Physical Action Data Set/sub3/Aggressive/txt/\",\n",
        "             \"gdrive/MyDrive/EMG Physical Action Data Set/sub3/Normal/txt/\",\n",
        "             \"gdrive/MyDrive/EMG Physical Action Data Set/sub4/Aggressive/txt/\",\n",
        "             \"gdrive/MyDrive/EMG Physical Action Data Set/sub4/Normal/txt/\"]\n",
        "\n",
        "# creating the pandas dataframe for the data\n",
        "ind = 0\n",
        "data = pd.DataFrame()\n",
        "\n",
        "# going through all the paths\n",
        "for dirs in data_dirs:\n",
        "  for files in os.listdir(dirs):\n",
        "    # read the tab separated files from each path (fule)\n",
        "    with open(os.path.join(dirs, files), \"r\") as f:  \n",
        "     # Getting the 8 Columns of data in the files\n",
        "      temp = pd.read_csv(\n",
        "        f.name,\n",
        "        sep = \"\\t\",\n",
        "        header = None, \n",
        "        names = [\"ch\" + str(i) for i in range(1, 9)]\n",
        "      )\n",
        "      \n",
        "      # chunking using Max of every 10 sequential values.\n",
        "      temp_chunked = pd.DataFrame()\n",
        "\n",
        "      for i in range(0, len(temp), 10):\n",
        "        temp_chunked = temp_chunked.append(temp.iloc[i:i+10].max(), ignore_index = True)\n",
        "\n",
        "      # cleaning up the data\n",
        "      labels = [files[:-4] for i in range(len(temp_chunked))]\n",
        "      actions[files[:-4]] = ind\n",
        "      temp_chunked[\"Action\"] = labels\n",
        "      data = pd.concat([data, temp_chunked])\n",
        "\n",
        "      ind += 1\n",
        "\n",
        "print(actions)"
      ]
    },
    {
      "cell_type": "markdown",
      "metadata": {
        "id": "jqr1aZpHv7uj"
      },
      "source": [
        "From this we can see all the 20 different actions in the dataset."
      ]
    },
    {
      "cell_type": "code",
      "execution_count": null,
      "metadata": {
        "colab": {
          "base_uri": "https://localhost:8080/",
          "height": 206
        },
        "id": "bdrcd0RnW6s8",
        "outputId": "985c67f6-a1b1-4f0f-c9b0-7db899bf9f1a"
      },
      "outputs": [
        {
          "output_type": "execute_result",
          "data": {
            "text/plain": [
              "      ch1     ch2    ch3    ch4     ch5    ch6     ch7     ch8    Action\n",
              "0     2.0   113.0  129.0   95.0 -1042.0  845.0   -94.0  -407.0  Slapping\n",
              "1  4000.0   250.0  -54.0  142.0 -2550.0  303.0 -1458.0  1765.0  Slapping\n",
              "2  2410.0  1516.0  803.0    8.0  3284.0  309.0 -1877.0  1199.0  Slapping\n",
              "3 -1556.0   876.0  710.0   85.0  4000.0  213.0 -1517.0   646.0  Slapping\n",
              "4  4000.0   275.0  304.0  137.0  4000.0  180.0   238.0   251.0  Slapping"
            ],
            "text/html": [
              "\n",
              "  <div id=\"df-eee27714-19f2-4ddf-ad81-d0545db1d7f1\">\n",
              "    <div class=\"colab-df-container\">\n",
              "      <div>\n",
              "<style scoped>\n",
              "    .dataframe tbody tr th:only-of-type {\n",
              "        vertical-align: middle;\n",
              "    }\n",
              "\n",
              "    .dataframe tbody tr th {\n",
              "        vertical-align: top;\n",
              "    }\n",
              "\n",
              "    .dataframe thead th {\n",
              "        text-align: right;\n",
              "    }\n",
              "</style>\n",
              "<table border=\"1\" class=\"dataframe\">\n",
              "  <thead>\n",
              "    <tr style=\"text-align: right;\">\n",
              "      <th></th>\n",
              "      <th>ch1</th>\n",
              "      <th>ch2</th>\n",
              "      <th>ch3</th>\n",
              "      <th>ch4</th>\n",
              "      <th>ch5</th>\n",
              "      <th>ch6</th>\n",
              "      <th>ch7</th>\n",
              "      <th>ch8</th>\n",
              "      <th>Action</th>\n",
              "    </tr>\n",
              "  </thead>\n",
              "  <tbody>\n",
              "    <tr>\n",
              "      <th>0</th>\n",
              "      <td>2.0</td>\n",
              "      <td>113.0</td>\n",
              "      <td>129.0</td>\n",
              "      <td>95.0</td>\n",
              "      <td>-1042.0</td>\n",
              "      <td>845.0</td>\n",
              "      <td>-94.0</td>\n",
              "      <td>-407.0</td>\n",
              "      <td>Slapping</td>\n",
              "    </tr>\n",
              "    <tr>\n",
              "      <th>1</th>\n",
              "      <td>4000.0</td>\n",
              "      <td>250.0</td>\n",
              "      <td>-54.0</td>\n",
              "      <td>142.0</td>\n",
              "      <td>-2550.0</td>\n",
              "      <td>303.0</td>\n",
              "      <td>-1458.0</td>\n",
              "      <td>1765.0</td>\n",
              "      <td>Slapping</td>\n",
              "    </tr>\n",
              "    <tr>\n",
              "      <th>2</th>\n",
              "      <td>2410.0</td>\n",
              "      <td>1516.0</td>\n",
              "      <td>803.0</td>\n",
              "      <td>8.0</td>\n",
              "      <td>3284.0</td>\n",
              "      <td>309.0</td>\n",
              "      <td>-1877.0</td>\n",
              "      <td>1199.0</td>\n",
              "      <td>Slapping</td>\n",
              "    </tr>\n",
              "    <tr>\n",
              "      <th>3</th>\n",
              "      <td>-1556.0</td>\n",
              "      <td>876.0</td>\n",
              "      <td>710.0</td>\n",
              "      <td>85.0</td>\n",
              "      <td>4000.0</td>\n",
              "      <td>213.0</td>\n",
              "      <td>-1517.0</td>\n",
              "      <td>646.0</td>\n",
              "      <td>Slapping</td>\n",
              "    </tr>\n",
              "    <tr>\n",
              "      <th>4</th>\n",
              "      <td>4000.0</td>\n",
              "      <td>275.0</td>\n",
              "      <td>304.0</td>\n",
              "      <td>137.0</td>\n",
              "      <td>4000.0</td>\n",
              "      <td>180.0</td>\n",
              "      <td>238.0</td>\n",
              "      <td>251.0</td>\n",
              "      <td>Slapping</td>\n",
              "    </tr>\n",
              "  </tbody>\n",
              "</table>\n",
              "</div>\n",
              "      <button class=\"colab-df-convert\" onclick=\"convertToInteractive('df-eee27714-19f2-4ddf-ad81-d0545db1d7f1')\"\n",
              "              title=\"Convert this dataframe to an interactive table.\"\n",
              "              style=\"display:none;\">\n",
              "        \n",
              "  <svg xmlns=\"http://www.w3.org/2000/svg\" height=\"24px\"viewBox=\"0 0 24 24\"\n",
              "       width=\"24px\">\n",
              "    <path d=\"M0 0h24v24H0V0z\" fill=\"none\"/>\n",
              "    <path d=\"M18.56 5.44l.94 2.06.94-2.06 2.06-.94-2.06-.94-.94-2.06-.94 2.06-2.06.94zm-11 1L8.5 8.5l.94-2.06 2.06-.94-2.06-.94L8.5 2.5l-.94 2.06-2.06.94zm10 10l.94 2.06.94-2.06 2.06-.94-2.06-.94-.94-2.06-.94 2.06-2.06.94z\"/><path d=\"M17.41 7.96l-1.37-1.37c-.4-.4-.92-.59-1.43-.59-.52 0-1.04.2-1.43.59L10.3 9.45l-7.72 7.72c-.78.78-.78 2.05 0 2.83L4 21.41c.39.39.9.59 1.41.59.51 0 1.02-.2 1.41-.59l7.78-7.78 2.81-2.81c.8-.78.8-2.07 0-2.86zM5.41 20L4 18.59l7.72-7.72 1.47 1.35L5.41 20z\"/>\n",
              "  </svg>\n",
              "      </button>\n",
              "      \n",
              "  <style>\n",
              "    .colab-df-container {\n",
              "      display:flex;\n",
              "      flex-wrap:wrap;\n",
              "      gap: 12px;\n",
              "    }\n",
              "\n",
              "    .colab-df-convert {\n",
              "      background-color: #E8F0FE;\n",
              "      border: none;\n",
              "      border-radius: 50%;\n",
              "      cursor: pointer;\n",
              "      display: none;\n",
              "      fill: #1967D2;\n",
              "      height: 32px;\n",
              "      padding: 0 0 0 0;\n",
              "      width: 32px;\n",
              "    }\n",
              "\n",
              "    .colab-df-convert:hover {\n",
              "      background-color: #E2EBFA;\n",
              "      box-shadow: 0px 1px 2px rgba(60, 64, 67, 0.3), 0px 1px 3px 1px rgba(60, 64, 67, 0.15);\n",
              "      fill: #174EA6;\n",
              "    }\n",
              "\n",
              "    [theme=dark] .colab-df-convert {\n",
              "      background-color: #3B4455;\n",
              "      fill: #D2E3FC;\n",
              "    }\n",
              "\n",
              "    [theme=dark] .colab-df-convert:hover {\n",
              "      background-color: #434B5C;\n",
              "      box-shadow: 0px 1px 3px 1px rgba(0, 0, 0, 0.15);\n",
              "      filter: drop-shadow(0px 1px 2px rgba(0, 0, 0, 0.3));\n",
              "      fill: #FFFFFF;\n",
              "    }\n",
              "  </style>\n",
              "\n",
              "      <script>\n",
              "        const buttonEl =\n",
              "          document.querySelector('#df-eee27714-19f2-4ddf-ad81-d0545db1d7f1 button.colab-df-convert');\n",
              "        buttonEl.style.display =\n",
              "          google.colab.kernel.accessAllowed ? 'block' : 'none';\n",
              "\n",
              "        async function convertToInteractive(key) {\n",
              "          const element = document.querySelector('#df-eee27714-19f2-4ddf-ad81-d0545db1d7f1');\n",
              "          const dataTable =\n",
              "            await google.colab.kernel.invokeFunction('convertToInteractive',\n",
              "                                                     [key], {});\n",
              "          if (!dataTable) return;\n",
              "\n",
              "          const docLinkHtml = 'Like what you see? Visit the ' +\n",
              "            '<a target=\"_blank\" href=https://colab.research.google.com/notebooks/data_table.ipynb>data table notebook</a>'\n",
              "            + ' to learn more about interactive tables.';\n",
              "          element.innerHTML = '';\n",
              "          dataTable['output_type'] = 'display_data';\n",
              "          await google.colab.output.renderOutput(dataTable, element);\n",
              "          const docLink = document.createElement('div');\n",
              "          docLink.innerHTML = docLinkHtml;\n",
              "          element.appendChild(docLink);\n",
              "        }\n",
              "      </script>\n",
              "    </div>\n",
              "  </div>\n",
              "  "
            ]
          },
          "metadata": {},
          "execution_count": 124
        }
      ],
      "source": [
        "data.head()"
      ]
    },
    {
      "cell_type": "markdown",
      "metadata": {
        "id": "2ADxeOPswpIG"
      },
      "source": [
        "### Integer Encoding\n",
        "Now, since the actions are strings in the dataframe, we must convert them into integers so that we can deal with them easily. To do this, I will use integer encoding which assigns each class an integer (in an increasing fashion). For instance, all the actions that are 'Slapping' will be set to 0, all the actions that are 'Sidekicking' will be set to 1, etc."
      ]
    },
    {
      "cell_type": "code",
      "execution_count": null,
      "metadata": {
        "id": "1mlb5AbAl0VC"
      },
      "outputs": [],
      "source": [
        "# getting only the input features (ch1 through ch8)\n",
        "X = abs(data.drop([\"Action\"], axis=1))\n",
        "# getting only the ouput feature (action) and also mapping it which preforms\n",
        "# the integer encoding discussed above.\n",
        "Y = data[\"Action\"].map(actions)"
      ]
    },
    {
      "cell_type": "code",
      "execution_count": null,
      "metadata": {
        "colab": {
          "base_uri": "https://localhost:8080/"
        },
        "id": "izSK22u89Vm_",
        "outputId": "ede0e0d8-2923-435e-d20c-a97b8f57004b"
      },
      "outputs": [
        {
          "output_type": "stream",
          "name": "stdout",
          "text": [
            "Training size set = 63810\n",
            "Test size set = 15953\n"
          ]
        }
      ],
      "source": [
        "# converting the dataframe values into arrays\n",
        "X = jnp.array(X.values.tolist())\n",
        "Y = jnp.array(Y.values.tolist())\n",
        "\n",
        "# Splitting the data into training and testing set\n",
        "X_train, X_test, Y_train, Y_test = train_test_split(X, Y, test_size = 0.2, shuffle = True)\n",
        "print(f\"Training size set = {X_train.shape[0]}\\nTest size set = {X_test.shape[0]}\")"
      ]
    },
    {
      "cell_type": "markdown",
      "metadata": {
        "id": "QMLs6pjIy1Z7"
      },
      "source": [
        "### Applying the Algorithm from Scratch Again \n",
        "Now That we have processed the data and split it into the training and testing sets, we can proceed to gradient boosting.\n",
        "\n",
        "As this is a much more complicated dataset, I have changed the hyper-parameters to account for the complexity. I will still take $\\gamma_m = 1$ for the boosting process; however, for the other parameters, I will choose the amount of estimates to be $n_{estimator} = 100$ and the max depth for the tree I will choose to be $depth_{max} = 7$. This way, the model can do a better job accounting for the plethora different classes."
      ]
    },
    {
      "cell_type": "code",
      "execution_count": null,
      "metadata": {
        "id": "JAR-WRpSU8_V"
      },
      "outputs": [],
      "source": [
        "# same as previos code\n",
        "\n",
        "# to store final predictions\n",
        "pred_final = jnp.zeros(len(Y_train))\n",
        "\n",
        "# to store the residuals to re-fit the model\n",
        "residuals = jnp.array(Y_train)\n",
        "\n",
        "# hyper-parameters\n",
        "n_estimator = 100\n",
        "dtc_max_depth = 7\n",
        "\n",
        "# storing the emg models\n",
        "emg_dtc_models = []\n",
        "\n",
        "for i in range(n_estimator):\n",
        "  # creating the DTC\n",
        "  emg_dtc = DecisionTreeClassifier(max_depth=dtc_max_depth)\n",
        "  # fitting the emg model training set to the residuals (I have rounded \n",
        "  # to make sure that I am fitting to integers which represent\n",
        "  # the differetn classes)\n",
        "  emg_dtc_model = emg_dtc.fit(X_train, jnp.round_(residuals))\n",
        "\n",
        "  # calculating the predictions for the current iteration, the final\n",
        "  # predictions and the residuals\n",
        "  pred_i = emg_dtc_model.predict(X_train)\n",
        "  pred_final = jnp.add(pred_final, pred_i)\n",
        "  residuals = jnp.subtract(jnp.array(Y_train), pred_final)\n",
        "\n",
        "  # adding the model to the set of emg models\n",
        "  emg_dtc_models.append(emg_dtc_model)\n"
      ]
    },
    {
      "cell_type": "markdown",
      "metadata": {
        "id": "wbajjf9T1mQG"
      },
      "source": [
        "Since the dataset is very complicated, we cannot produce any plots for visualization here; in the cosinusoidal set, there was only one input so it was easy to plot, here there are 8 so we cannot plot them. Instead, we will just be finding the accuracy for both the training and testing set."
      ]
    },
    {
      "cell_type": "code",
      "execution_count": null,
      "metadata": {
        "colab": {
          "base_uri": "https://localhost:8080/"
        },
        "id": "zkZQX1zYVcQw",
        "outputId": "282dac6a-fcf2-4c30-ff84-cdd2a317bbad"
      },
      "outputs": [
        {
          "output_type": "execute_result",
          "data": {
            "text/plain": [
              "0.3422974455414512"
            ]
          },
          "metadata": {},
          "execution_count": 128
        }
      ],
      "source": [
        "# training accuracy\n",
        "correct = 0\n",
        "for i in range(len(Y_train)):\n",
        "  if (pred_final[i] == Y_train[i]):\n",
        "    correct += 1\n",
        "\n",
        "correct / len(Y_train)"
      ]
    },
    {
      "cell_type": "code",
      "execution_count": null,
      "metadata": {
        "colab": {
          "base_uri": "https://localhost:8080/"
        },
        "id": "8gqYuC43jshi",
        "outputId": "9a498e39-1005-47e7-d89f-b45623788146"
      },
      "outputs": [
        {
          "output_type": "execute_result",
          "data": {
            "text/plain": [
              "0.3297185482354416"
            ]
          },
          "metadata": {},
          "execution_count": 129
        }
      ],
      "source": [
        "# testing accuracy\n",
        "pred = sum(model.predict(X_test) for model in emg_dtc_models)\n",
        "correct = 0\n",
        "for i in range(len(X_test)):\n",
        "  if (pred[i] == Y_test[i]):\n",
        "    correct += 1\n",
        "\n",
        "correct / len(X_test)\n",
        "\n",
        "# The following are tests preformed to show the results\n",
        "\n",
        "# n_estimators, max_depth: Training accuracy, Testing accuracy\n",
        "\n",
        "# Tests on only Sub1 of the dataset:\n",
        "# 100, 7: 0.590246067985794, 0.4940400710119199\n",
        "\n",
        "# Entire dataset:\n",
        "# 100, 7: 0.34742203416392414, 0.32395160784805366\n",
        "# 100, 11: 0.5722927440839993, 0.3128565160157964"
      ]
    },
    {
      "cell_type": "markdown",
      "metadata": {
        "id": "yU5hwVSDokq0"
      },
      "source": [
        "As it can be see above, I have tried different hyper-parameters but and I have decided to go with are the ones I have mentioned earlier on. I noticed that as the number of estimators increased, there was no change, and as the maximum depth for the tree increased, the accuracy only improved for the training data (overfitting).\n",
        "\n",
        "Using the entire dataset and $n_{estimator} = 100$ and $depth_{max} = 7$, the accuracy I have observed for the testing set is around 35%, and the accuracy for the training set is around 32%. Although this might seem low, it is actually pretty high since the model has to choose between 20 different classes, and from that, it predicts the correct class more than 30% of the time. Overall, the implementation from scratch does a great job at trying to classify the datapoints according to the different classes."
      ]
    }
  ],
  "metadata": {
    "colab": {
      "provenance": [],
      "include_colab_link": true
    },
    "gpuClass": "standard",
    "kernelspec": {
      "display_name": "Python 3",
      "name": "python3"
    },
    "language_info": {
      "name": "python"
    }
  },
  "nbformat": 4,
  "nbformat_minor": 0
}